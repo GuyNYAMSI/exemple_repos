{
  "nbformat": 4,
  "nbformat_minor": 0,
  "metadata": {
    "colab": {
      "provenance": [],
      "include_colab_link": true
    },
    "kernelspec": {
      "name": "python3",
      "display_name": "Python 3"
    },
    "language_info": {
      "name": "python"
    }
  },
  "cells": [
    {
      "cell_type": "markdown",
      "metadata": {
        "id": "view-in-github",
        "colab_type": "text"
      },
      "source": [
        "<a href=\"https://colab.research.google.com/github/GuyNYAMSI/exemple_repos/blob/main/1_Gender_detection.ipynb\" target=\"_parent\"><img src=\"https://colab.research.google.com/assets/colab-badge.svg\" alt=\"Open In Colab\"/></a>"
      ]
    },
    {
      "cell_type": "markdown",
      "metadata": {
        "id": "Wf4Gwn3_kLuk"
      },
      "source": [
        "<center><img src=\"https://assets-datascientest.s3-eu-west-1.amazonaws.com/train/logo_datascientest.png\" style=\"height:150px;center\"></center>\n",
        "\n",
        "<hr style=\"border-width:2px;border-color:#75DFC1\">\n",
        "<center><h1>Deep-Learning - Modules complémentaires</h1></center>\n",
        "<center><h2>Classification sur des données structurées</h2></center>\n",
        "<hr style=\"border-width:2px;border-color:#75DFC1\">\n",
        "\n",
        "\n",
        "Le but de cet exercice est de s'entraîner à faire une classification sur des données structurées à l'aide d'un réseau de neurones dense.\n",
        "\n",
        " Nous allons travailler avec la base de données **```gender_classification.csv```**, qui contient les caractéristiques physiques du visage d'hommes et de femmes ainsi que leur genre.\n",
        "\n",
        "> La structure de l'exercice est la suivante : \n",
        ">> I - [Préparation du dataset](#preparation)\n",
        ">>\n",
        ">>\n",
        ">> II - [Classification avec un algorithme classique (KNN)](#knn)\n",
        ">>\n",
        ">>\n",
        ">> III - [Classification à l'aide d'un réseau de neurones dense](#dnn)\n",
        "\n",
        "- Exécuter les cellules ci-dessous pour importer le dataset et les modules nécessaires à l'exercice."
      ]
    },
    {
      "cell_type": "code",
      "metadata": {
        "id": "DtjhmT0_4a9w",
        "outputId": "c653e3f7-99a7-4799-a6af-5028a9b529ea",
        "colab": {
          "base_uri": "https://localhost:8080/"
        }
      },
      "source": [
        "!wget https://assets-datascientest.s3-eu-west-1.amazonaws.com/datasets/gender_classification.zip\n",
        "!unzip gender_classification.zip\n",
        "\n",
        "\n"
      ],
      "execution_count": null,
      "outputs": [
        {
          "output_type": "stream",
          "text": [
            "--2021-08-03 11:57:20--  https://assets-datascientest.s3-eu-west-1.amazonaws.com/datasets/gender_classification.zip\n",
            "Resolving assets-datascientest.s3-eu-west-1.amazonaws.com (assets-datascientest.s3-eu-west-1.amazonaws.com)... 52.218.85.80\n",
            "Connecting to assets-datascientest.s3-eu-west-1.amazonaws.com (assets-datascientest.s3-eu-west-1.amazonaws.com)|52.218.85.80|:443... connected.\n",
            "HTTP request sent, awaiting response... 200 OK\n",
            "Length: 19483 (19K) [application/zip]\n",
            "Saving to: ‘gender_classification.zip’\n",
            "\n",
            "gender_classificati 100%[===================>]  19.03K  --.-KB/s    in 0.1s    \n",
            "\n",
            "2021-08-03 11:57:20 (184 KB/s) - ‘gender_classification.zip’ saved [19483/19483]\n",
            "\n",
            "Archive:  gender_classification.zip\n",
            "  inflating: gender_classification.csv  \n"
          ],
          "name": "stdout"
        }
      ]
    },
    {
      "cell_type": "code",
      "metadata": {
        "id": "dc-NPUXf4dF6",
        "colab": {
          "base_uri": "https://localhost:8080/",
          "height": 204
        },
        "outputId": "e9bbafe8-c001-4ae4-b962-9b01658c30c2"
      },
      "source": [
        "import pandas as pd\n",
        "import numpy as np\n",
        "import matplotlib.pyplot as plt\n",
        "%matplotlib inline\n",
        "\n",
        "from sklearn.model_selection import train_test_split\n",
        "from sklearn.preprocessing import MinMaxScaler\n",
        "\n",
        "from sklearn.neighbors import KNeighborsClassifier\n",
        "\n",
        "from tensorflow.keras import callbacks\n",
        "from tensorflow.keras import Sequential\n",
        "from tensorflow.keras.layers import Dense, Dropout\n",
        "\n"
      ],
      "execution_count": null,
      "outputs": [
        {
          "output_type": "error",
          "ename": "NameError",
          "evalue": "ignored",
          "traceback": [
            "\u001b[0;31m---------------------------------------------------------------------------\u001b[0m",
            "\u001b[0;31mNameError\u001b[0m                                 Traceback (most recent call last)",
            "\u001b[0;32m<ipython-input-1-10e54a5be832>\u001b[0m in \u001b[0;36m<module>\u001b[0;34m()\u001b[0m\n\u001b[1;32m     13\u001b[0m \u001b[0;32mfrom\u001b[0m \u001b[0mtensorflow\u001b[0m\u001b[0;34m.\u001b[0m\u001b[0mkeras\u001b[0m\u001b[0;34m.\u001b[0m\u001b[0mlayers\u001b[0m \u001b[0;32mimport\u001b[0m \u001b[0mDense\u001b[0m\u001b[0;34m,\u001b[0m \u001b[0mDropout\u001b[0m\u001b[0;34m\u001b[0m\u001b[0;34m\u001b[0m\u001b[0m\n\u001b[1;32m     14\u001b[0m \u001b[0;34m\u001b[0m\u001b[0m\n\u001b[0;32m---> 15\u001b[0;31m \u001b[0mjb\u001b[0m\u001b[0;34m\u001b[0m\u001b[0;34m\u001b[0m\u001b[0m\n\u001b[0m",
            "\u001b[0;31mNameError\u001b[0m: name 'jb' is not defined"
          ]
        }
      ]
    },
    {
      "cell_type": "markdown",
      "metadata": {
        "id": "iJ3wpy5L-yiW"
      },
      "source": [
        "# <a name=\"preparation\"></a> I - Préparation du dataset\n",
        "\n",
        "- (a) Charger le jeu de données **```gender_classification.csv```** dans un DataFrame ```df```.\n",
        "\n",
        "- (b) Afficher la shape de ```df``` ainsi que ses 5 premières lignes."
      ]
    },
    {
      "cell_type": "code",
      "metadata": {
        "id": "x_V2uyUwbPux"
      },
      "source": [],
      "execution_count": null,
      "outputs": []
    },
    {
      "cell_type": "markdown",
      "metadata": {
        "id": "MpueSDM4bSbX"
      },
      "source": [
        "- (c) Vérifier que les colonnes de ```df``` sont du bon type, et traiter les valeurs manquantes s'il y en a."
      ]
    },
    {
      "cell_type": "code",
      "metadata": {
        "id": "MXZq0qSDbY5O"
      },
      "source": [],
      "execution_count": null,
      "outputs": []
    },
    {
      "cell_type": "markdown",
      "metadata": {
        "id": "Igf68u4mYBY8"
      },
      "source": [
        "- (d) Préparer les données.\n",
        "> Cette partie regroupe :\n",
        ">> - L'encodage des variables\n",
        ">>\n",
        ">>\n",
        ">> - la séparation des variables explicatives de la variable cible\n",
        ">>\n",
        ">>\n",
        ">> - La création d'un jeu de test et d'entraînement\n",
        ">>\n",
        ">>\n",
        ">> - Le scaling de ```X_train``` et ```X_test```"
      ]
    },
    {
      "cell_type": "code",
      "metadata": {
        "id": "0A0ImOAObau3"
      },
      "source": [],
      "execution_count": null,
      "outputs": []
    },
    {
      "cell_type": "markdown",
      "metadata": {
        "id": "mF9FgTdxI7i5"
      },
      "source": [
        "# II - <a name=\"knn\"></a> Classification avec un algorithme classique (KNN)\n",
        "\n",
        "- (a) Instancier un modèle de classification KNN.\n",
        "\n",
        "- (b) Fit le modèle aux données d'entraînement.\n",
        "\n",
        "- (c) Effectuer une prédiction à partir des données de test (attention au scaling).\n",
        "\n",
        "- (d) Afficher la matrice de confusion de la prédiction."
      ]
    },
    {
      "cell_type": "code",
      "metadata": {
        "id": "WeAw8Evvbb7d"
      },
      "source": [],
      "execution_count": null,
      "outputs": []
    },
    {
      "cell_type": "markdown",
      "metadata": {
        "id": "x5sQG8XEJMcc"
      },
      "source": [
        "# III - <a name=\"dnn\"></a> Classification à l'aide d'un réseau de neurones dense\n",
        "\n",
        "- (a) Instancier un réseau de neurones dense de l'architecture de votre choix. \n",
        "\n",
        "- (b) Compiler le modèle avec une métrique appropriée.\n",
        "\n",
        "- (c) Entraîner le modèle avec les paramètres de votre choix. On pourra également définir des callbacks.\n",
        "\n",
        "- (d) Effectuer une prédiction à partir des données de test (attention au scaling).\n",
        "\n",
        "- (e) Afficher la matrice de confusion de la prédiction"
      ]
    },
    {
      "cell_type": "code",
      "metadata": {
        "id": "BJOzbtCNbdXx"
      },
      "source": [],
      "execution_count": null,
      "outputs": []
    }
  ]
}